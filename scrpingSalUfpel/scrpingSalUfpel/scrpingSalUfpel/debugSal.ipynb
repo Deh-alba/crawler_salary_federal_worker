{
 "metadata": {
  "language_info": {
   "codemirror_mode": {
    "name": "ipython",
    "version": 3
   },
   "file_extension": ".py",
   "mimetype": "text/x-python",
   "name": "python",
   "nbconvert_exporter": "python",
   "pygments_lexer": "ipython3",
   "version": "3.8.5"
  },
  "orig_nbformat": 2,
  "kernelspec": {
   "name": "python385jvsc74a57bd0916dbcbb3f70747c44a77c7bcd40155683ae19c65e1c03b4aa3499c5328201f1",
   "display_name": "Python 3.8.5 64-bit"
  },
  "metadata": {
   "interpreter": {
    "hash": "916dbcbb3f70747c44a77c7bcd40155683ae19c65e1c03b4aa3499c5328201f1"
   }
  }
 },
 "nbformat": 4,
 "nbformat_minor": 2,
 "cells": [
  {
   "source": [
    "import scrapy\n",
    "import pandas as pd\n",
    "from urllib.parse import urlparse\n",
    "from scrapy.crawler import CrawlerProcess\n",
    "\n"
   ],
   "cell_type": "code",
   "metadata": {},
   "execution_count": 1,
   "outputs": []
  },
  {
   "cell_type": "code",
   "execution_count": 2,
   "metadata": {},
   "outputs": [],
   "source": [
    "name = \"salarios\"\n",
    "siape = dict()\n",
    "urls = list()\n",
    "register_inter = pd.read_csv('servidores_ativos_ufpel.csv',usecols=['nome','siape','categoria'])\n",
    "register = pd.read_csv('202101_Cadastro.csv',sep=';',usecols=['NOME','Id_SERVIDOR_PORTAL'])"
   ]
  },
  {
   "cell_type": "code",
   "execution_count": 3,
   "metadata": {},
   "outputs": [],
   "source": [
    "register_inter = register_inter.drop_duplicates(subset=['nome'])\n",
    "register = register.drop_duplicates(subset=['NOME'])"
   ]
  },
  {
   "cell_type": "code",
   "execution_count": 4,
   "metadata": {},
   "outputs": [],
   "source": [
    "register = register.rename(columns={\"NOME\":\"nome\"})"
   ]
  },
  {
   "cell_type": "code",
   "execution_count": 5,
   "metadata": {},
   "outputs": [],
   "source": [
    "register_inter = register_inter.merge(register, on=\"nome\")"
   ]
  },
  {
   "cell_type": "code",
   "execution_count": 11,
   "metadata": {},
   "outputs": [],
   "source": [
    "compression_opts = dict(method='zip', archive_name='out.csv')  "
   ]
  },
  {
   "cell_type": "code",
   "execution_count": 12,
   "metadata": {},
   "outputs": [],
   "source": [
    "register_inter.to_csv('out.zip', index=False,compression=compression_opts) "
   ]
  },
  {
   "cell_type": "code",
   "execution_count": 6,
   "metadata": {},
   "outputs": [],
   "source": [
    "def mount_link(Id_SERVIDOR_PORTAL):\n",
    "    \n",
    "\n",
    "    main_information = \"https://www.portaldatransparencia.gov.br/servidores/\"+str(Id_SERVIDOR_PORTAL)\n",
    "\n",
    "    return urlparse(main_information).geturl()"
   ]
  },
  {
   "cell_type": "code",
   "execution_count": 7,
   "metadata": {},
   "outputs": [],
   "source": [
    "register_inter[\"link\"] = register_inter[\"Id_SERVIDOR_PORTAL\"].apply(lambda row: mount_link(row))"
   ]
  },
  {
   "cell_type": "code",
   "execution_count": 8,
   "metadata": {},
   "outputs": [
    {
     "output_type": "execute_result",
     "data": {
      "text/plain": [
       "0       https://www.portaldatransparencia.gov.br/servi...\n",
       "1       https://www.portaldatransparencia.gov.br/servi...\n",
       "2       https://www.portaldatransparencia.gov.br/servi...\n",
       "3       https://www.portaldatransparencia.gov.br/servi...\n",
       "4       https://www.portaldatransparencia.gov.br/servi...\n",
       "                              ...                        \n",
       "2269    https://www.portaldatransparencia.gov.br/servi...\n",
       "2270    https://www.portaldatransparencia.gov.br/servi...\n",
       "2271    https://www.portaldatransparencia.gov.br/servi...\n",
       "2272    https://www.portaldatransparencia.gov.br/servi...\n",
       "2273    https://www.portaldatransparencia.gov.br/servi...\n",
       "Name: link, Length: 2274, dtype: object"
      ]
     },
     "metadata": {},
     "execution_count": 8
    }
   ],
   "source": [
    "register_inter['link']"
   ]
  },
  {
   "cell_type": "code",
   "execution_count": 9,
   "metadata": {},
   "outputs": [
    {
     "output_type": "execute_result",
     "data": {
      "text/plain": [
       "'https://www.portaldatransparencia.gov.br/servidores/7300017'"
      ]
     },
     "metadata": {},
     "execution_count": 9
    }
   ],
   "source": [
    "register_inter['link'][0]"
   ]
  },
  {
   "cell_type": "code",
   "execution_count": 10,
   "metadata": {},
   "outputs": [
    {
     "output_type": "stream",
     "name": "stderr",
     "text": [
      "2021-06-05 19:45:48 [scrapy.utils.log] INFO: Scrapy 2.5.0 started (bot: scrapybot)\n",
      "2021-06-05 19:45:48 [scrapy.utils.log] INFO: Versions: lxml 4.6.3.0, libxml2 2.9.10, cssselect 1.1.0, parsel 1.6.0, w3lib 1.22.0, Twisted 21.2.0, Python 3.8.5 (default, May 27 2021, 13:30:53) - [GCC 9.3.0], pyOpenSSL 20.0.1 (OpenSSL 1.1.1k  25 Mar 2021), cryptography 3.4.7, Platform Linux-5.4.72-microsoft-standard-WSL2-x86_64-with-glibc2.29\n",
      "2021-06-05 19:45:48 [scrapy.utils.log] DEBUG: Using reactor: twisted.internet.epollreactor.EPollReactor\n"
     ]
    }
   ],
   "source": [
    "\n",
    "class salary_spider(scrapy.Spider):\n",
    "    name = \"salary_spider\"\n",
    "    start_urls = register_inter['link'][0]\n",
    "    \n",
    "    def parse(self, response):\n",
    "        for quote in response.xpath('///div[2]/section[1]/div[1]/div[1]/span'):\n",
    "            yield {'quote': quote.extract()}\n",
    "\n",
    "process = CrawlerProcess()\n"
   ]
  }
 ]
}