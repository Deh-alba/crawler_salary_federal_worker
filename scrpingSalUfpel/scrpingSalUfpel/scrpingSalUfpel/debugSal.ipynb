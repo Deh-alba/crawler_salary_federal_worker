{
 "metadata": {
  "language_info": {
   "codemirror_mode": {
    "name": "ipython",
    "version": 3
   },
   "file_extension": ".py",
   "mimetype": "text/x-python",
   "name": "python",
   "nbconvert_exporter": "python",
   "pygments_lexer": "ipython3",
   "version": "3.8.5"
  },
  "orig_nbformat": 2,
  "kernelspec": {
   "name": "python385jvsc74a57bd0916dbcbb3f70747c44a77c7bcd40155683ae19c65e1c03b4aa3499c5328201f1",
   "display_name": "Python 3.8.5 64-bit"
  },
  "metadata": {
   "interpreter": {
    "hash": "916dbcbb3f70747c44a77c7bcd40155683ae19c65e1c03b4aa3499c5328201f1"
   }
  }
 },
 "nbformat": 4,
 "nbformat_minor": 2,
 "cells": [
  {
   "cell_type": "code",
   "execution_count": 43,
   "metadata": {},
   "outputs": [],
   "source": [
    "import scrapy\n",
    "from selenium import webdriver\n",
    "import pandas\n",
    "from urllib.parse import urlparse\n",
    "from scrapy.crawler import CrawlerProcess\n"
   ]
  },
  {
   "cell_type": "code",
   "execution_count": 4,
   "metadata": {},
   "outputs": [],
   "source": [
    "name = \"salarios\"\n",
    "siape = dict()\n",
    "urls = list()\n",
    "arq = pandas.read_csv(\"servidores_ativos_ufpel.csv\")\n",
    "servidore = arq[\"nome\"]\n",
    "siapeUtil = arq[\"siape\"]\n",
    "main_site = \"https://www.portaldatransparencia.gov.br/servidores/Servidor-ListaServidores.asp?bogus=1&Pagina=1&TextoPesquisa=\""
   ]
  },
  {
   "cell_type": "code",
   "execution_count": 12,
   "metadata": {},
   "outputs": [
    {
     "output_type": "execute_result",
     "data": {
      "text/plain": [
       "0            MARILIA GUIDOTTI CORREA\n",
       "1          Rosiane Schwantz do Couto\n",
       "2       HELEN LETICIA GRALA JACOBSEN\n",
       "3              FLORIBALDO DIAS PERES\n",
       "4                  LUIZ PAULO DUARTE\n",
       "                    ...             \n",
       "2671     CARLOS ARTHUR SALDANHA DIAS\n",
       "2672        CAROLINA ANDERSSON BUNDE\n",
       "2673      LISANDRA MACHADO KERCHIRNE\n",
       "2674          RENATA PEREIRA CARDOSO\n",
       "2675          VITOR HUGO KARST FELIX\n",
       "Name: nome, Length: 2676, dtype: object"
      ]
     },
     "metadata": {},
     "execution_count": 12
    }
   ],
   "source": [
    "servidore"
   ]
  },
  {
   "cell_type": "code",
   "execution_count": 13,
   "metadata": {},
   "outputs": [
    {
     "output_type": "execute_result",
     "data": {
      "text/plain": [
       "0       2103752\n",
       "1       1844853\n",
       "2       1854388\n",
       "3        420664\n",
       "4        421000\n",
       "         ...   \n",
       "2671    3558505\n",
       "2672    2354376\n",
       "2673    1894217\n",
       "2674    2183279\n",
       "2675    2346070\n",
       "Name: siape, Length: 2676, dtype: int64"
      ]
     },
     "metadata": {},
     "execution_count": 13
    }
   ],
   "source": [
    "siapeUtil"
   ]
  },
  {
   "cell_type": "code",
   "execution_count": 14,
   "metadata": {},
   "outputs": [
    {
     "output_type": "execute_result",
     "data": {
      "text/plain": [
       "      cod_unidade                             unidade_lotacao    siape  \\\n",
       "0            38.0  Agência de Desenv. da Bacia da Lagoa Mirim  2103752   \n",
       "1            38.0  Agência de Desenv. da Bacia da Lagoa Mirim  1844853   \n",
       "2            40.0                           Auditoria Interna  1854388   \n",
       "3            36.0                            Biotério Central   420664   \n",
       "4            36.0                            Biotério Central   421000   \n",
       "...           ...                                         ...      ...   \n",
       "2671          NaN                                         NaN  3558505   \n",
       "2672          NaN                                         NaN  2354376   \n",
       "2673          NaN                                         NaN  1894217   \n",
       "2674          NaN                                         NaN  2183279   \n",
       "2675          NaN                                         NaN  2346070   \n",
       "\n",
       "                              nome regime_trabalho          titulacao  \\\n",
       "0          MARILIA GUIDOTTI CORREA             40h  Especialização NS   \n",
       "1        Rosiane Schwantz do Couto             40h           Mestrado   \n",
       "2     HELEN LETICIA GRALA JACOBSEN             40h           Mestrado   \n",
       "3            FLORIBALDO DIAS PERES             40h                NaN   \n",
       "4                LUIZ PAULO DUARTE             40h                NaN   \n",
       "...                            ...             ...                ...   \n",
       "2671   CARLOS ARTHUR SALDANHA DIAS             40h                NaN   \n",
       "2672      CAROLINA ANDERSSON BUNDE             40h  Especialização NS   \n",
       "2673    LISANDRA MACHADO KERCHIRNE             40h  Especialização NS   \n",
       "2674        RENATA PEREIRA CARDOSO             40h           Mestrado   \n",
       "2675        VITOR HUGO KARST FELIX             40h          Graduação   \n",
       "\n",
       "                   categoria                                   cargo  \\\n",
       "0     Técnico administrativo                  Técnico de Laboratório   \n",
       "1     Técnico administrativo             Assistente em Administração   \n",
       "2     Técnico administrativo                                 Auditor   \n",
       "3     Técnico administrativo  Mestre de Edificações e Infraestrutura   \n",
       "4     Técnico administrativo             Assistente em Administração   \n",
       "...                      ...                                     ...   \n",
       "2671  Técnico administrativo                                 Auditor   \n",
       "2672  Técnico administrativo                       Assistente Social   \n",
       "2673  Técnico administrativo             Assistente em Administração   \n",
       "2674  Técnico administrativo                                 Auditor   \n",
       "2675  Técnico administrativo                                     NaN   \n",
       "\n",
       "      Unnamed: 8 Unnamed: 9  \n",
       "0            NaN        NaN  \n",
       "1            NaN        NaN  \n",
       "2            NaN        NaN  \n",
       "3            NaN        NaN  \n",
       "4            NaN        NaN  \n",
       "...          ...        ...  \n",
       "2671         NaN        NaN  \n",
       "2672         NaN        NaN  \n",
       "2673         NaN        NaN  \n",
       "2674         NaN        NaN  \n",
       "2675         NaN        NaN  \n",
       "\n",
       "[2676 rows x 10 columns]"
      ],
      "text/html": "<div>\n<style scoped>\n    .dataframe tbody tr th:only-of-type {\n        vertical-align: middle;\n    }\n\n    .dataframe tbody tr th {\n        vertical-align: top;\n    }\n\n    .dataframe thead th {\n        text-align: right;\n    }\n</style>\n<table border=\"1\" class=\"dataframe\">\n  <thead>\n    <tr style=\"text-align: right;\">\n      <th></th>\n      <th>cod_unidade</th>\n      <th>unidade_lotacao</th>\n      <th>siape</th>\n      <th>nome</th>\n      <th>regime_trabalho</th>\n      <th>titulacao</th>\n      <th>categoria</th>\n      <th>cargo</th>\n      <th>Unnamed: 8</th>\n      <th>Unnamed: 9</th>\n    </tr>\n  </thead>\n  <tbody>\n    <tr>\n      <th>0</th>\n      <td>38.0</td>\n      <td>Agência de Desenv. da Bacia da Lagoa Mirim</td>\n      <td>2103752</td>\n      <td>MARILIA GUIDOTTI CORREA</td>\n      <td>40h</td>\n      <td>Especialização NS</td>\n      <td>Técnico administrativo</td>\n      <td>Técnico de Laboratório</td>\n      <td>NaN</td>\n      <td>NaN</td>\n    </tr>\n    <tr>\n      <th>1</th>\n      <td>38.0</td>\n      <td>Agência de Desenv. da Bacia da Lagoa Mirim</td>\n      <td>1844853</td>\n      <td>Rosiane Schwantz do Couto</td>\n      <td>40h</td>\n      <td>Mestrado</td>\n      <td>Técnico administrativo</td>\n      <td>Assistente em Administração</td>\n      <td>NaN</td>\n      <td>NaN</td>\n    </tr>\n    <tr>\n      <th>2</th>\n      <td>40.0</td>\n      <td>Auditoria Interna</td>\n      <td>1854388</td>\n      <td>HELEN LETICIA GRALA JACOBSEN</td>\n      <td>40h</td>\n      <td>Mestrado</td>\n      <td>Técnico administrativo</td>\n      <td>Auditor</td>\n      <td>NaN</td>\n      <td>NaN</td>\n    </tr>\n    <tr>\n      <th>3</th>\n      <td>36.0</td>\n      <td>Biotério Central</td>\n      <td>420664</td>\n      <td>FLORIBALDO DIAS PERES</td>\n      <td>40h</td>\n      <td>NaN</td>\n      <td>Técnico administrativo</td>\n      <td>Mestre de Edificações e Infraestrutura</td>\n      <td>NaN</td>\n      <td>NaN</td>\n    </tr>\n    <tr>\n      <th>4</th>\n      <td>36.0</td>\n      <td>Biotério Central</td>\n      <td>421000</td>\n      <td>LUIZ PAULO DUARTE</td>\n      <td>40h</td>\n      <td>NaN</td>\n      <td>Técnico administrativo</td>\n      <td>Assistente em Administração</td>\n      <td>NaN</td>\n      <td>NaN</td>\n    </tr>\n    <tr>\n      <th>...</th>\n      <td>...</td>\n      <td>...</td>\n      <td>...</td>\n      <td>...</td>\n      <td>...</td>\n      <td>...</td>\n      <td>...</td>\n      <td>...</td>\n      <td>...</td>\n      <td>...</td>\n    </tr>\n    <tr>\n      <th>2671</th>\n      <td>NaN</td>\n      <td>NaN</td>\n      <td>3558505</td>\n      <td>CARLOS ARTHUR SALDANHA DIAS</td>\n      <td>40h</td>\n      <td>NaN</td>\n      <td>Técnico administrativo</td>\n      <td>Auditor</td>\n      <td>NaN</td>\n      <td>NaN</td>\n    </tr>\n    <tr>\n      <th>2672</th>\n      <td>NaN</td>\n      <td>NaN</td>\n      <td>2354376</td>\n      <td>CAROLINA ANDERSSON BUNDE</td>\n      <td>40h</td>\n      <td>Especialização NS</td>\n      <td>Técnico administrativo</td>\n      <td>Assistente Social</td>\n      <td>NaN</td>\n      <td>NaN</td>\n    </tr>\n    <tr>\n      <th>2673</th>\n      <td>NaN</td>\n      <td>NaN</td>\n      <td>1894217</td>\n      <td>LISANDRA MACHADO KERCHIRNE</td>\n      <td>40h</td>\n      <td>Especialização NS</td>\n      <td>Técnico administrativo</td>\n      <td>Assistente em Administração</td>\n      <td>NaN</td>\n      <td>NaN</td>\n    </tr>\n    <tr>\n      <th>2674</th>\n      <td>NaN</td>\n      <td>NaN</td>\n      <td>2183279</td>\n      <td>RENATA PEREIRA CARDOSO</td>\n      <td>40h</td>\n      <td>Mestrado</td>\n      <td>Técnico administrativo</td>\n      <td>Auditor</td>\n      <td>NaN</td>\n      <td>NaN</td>\n    </tr>\n    <tr>\n      <th>2675</th>\n      <td>NaN</td>\n      <td>NaN</td>\n      <td>2346070</td>\n      <td>VITOR HUGO KARST FELIX</td>\n      <td>40h</td>\n      <td>Graduação</td>\n      <td>Técnico administrativo</td>\n      <td>NaN</td>\n      <td>NaN</td>\n      <td>NaN</td>\n    </tr>\n  </tbody>\n</table>\n<p>2676 rows × 10 columns</p>\n</div>"
     },
     "metadata": {},
     "execution_count": 14
    }
   ],
   "source": [
    "arq"
   ]
  },
  {
   "cell_type": "code",
   "execution_count": 17,
   "metadata": {},
   "outputs": [],
   "source": [
    "arq = arq.drop(columns=['Unnamed: 8','Unnamed: 9','cod_unidade'],axis=1)"
   ]
  },
  {
   "cell_type": "code",
   "execution_count": 32,
   "metadata": {},
   "outputs": [],
   "source": [
    "def mount_link(name):\n",
    "    main_site = \"https://www.portaldatransparencia.gov.br/servidores/consulta?paginacaoSimples=true&tamanhoPagina=&offset=&direcaoOrdenacao=asc&colunasSelecionadas=detalhar%2Ctipo%2Ccpf%2Cnome%2CorgaoServidorExercicio%2CorgaoServidorLotacao%2Cmatricula%2CtipoVinculo%2Cfuncao&palavraChave=\"+name.replace(' ', '+')\n",
    "    return urlparse(main_site).geturl()"
   ]
  },
  {
   "cell_type": "code",
   "execution_count": 24,
   "metadata": {},
   "outputs": [
    {
     "output_type": "stream",
     "name": "stdout",
     "text": [
      "https://www.portaldatransparencia.gov.br/servidores/consulta?paginacaoSimples=true&tamanhoPagina=&offset=&direcaoOrdenacao=asc&colunasSelecionadas=detalhar%2Ctipo%2Ccpf%2Cnome%2CorgaoServidorExercicio%2CorgaoServidorLotacao%2Cmatricula%2CtipoVinculo%2Cfuncao&palavraChave=MARILIA+GUIDOTTI+CORREA\n"
     ]
    }
   ],
   "source": [
    "print(mount_link(\"MARILIA GUIDOTTI CORREA\").geturl())"
   ]
  },
  {
   "cell_type": "code",
   "execution_count": 35,
   "metadata": {},
   "outputs": [],
   "source": [
    "arq[\"link\"] = arq[\"nome\"].apply(lambda row: mount_link(row))"
   ]
  },
  {
   "cell_type": "code",
   "execution_count": 39,
   "metadata": {},
   "outputs": [
    {
     "output_type": "execute_result",
     "data": {
      "text/plain": [
       "0       https://www.portaldatransparencia.gov.br/servi...\n",
       "1       https://www.portaldatransparencia.gov.br/servi...\n",
       "2       https://www.portaldatransparencia.gov.br/servi...\n",
       "3       https://www.portaldatransparencia.gov.br/servi...\n",
       "4       https://www.portaldatransparencia.gov.br/servi...\n",
       "                              ...                        \n",
       "2671    https://www.portaldatransparencia.gov.br/servi...\n",
       "2672    https://www.portaldatransparencia.gov.br/servi...\n",
       "2673    https://www.portaldatransparencia.gov.br/servi...\n",
       "2674    https://www.portaldatransparencia.gov.br/servi...\n",
       "2675    https://www.portaldatransparencia.gov.br/servi...\n",
       "Name: link, Length: 2676, dtype: object"
      ]
     },
     "metadata": {},
     "execution_count": 39
    }
   ],
   "source": [
    "arq['link']"
   ]
  },
  {
   "cell_type": "code",
   "execution_count": 45,
   "metadata": {},
   "outputs": [
    {
     "output_type": "stream",
     "name": "stderr",
     "text": [
      "2021-06-04 20:50:53 [scrapy.utils.log] INFO: Scrapy 2.5.0 started (bot: scrapybot)\n",
      "2021-06-04 20:50:53 [scrapy.utils.log] INFO: Versions: lxml 4.6.3.0, libxml2 2.9.10, cssselect 1.1.0, parsel 1.6.0, w3lib 1.22.0, Twisted 21.2.0, Python 3.8.5 (default, May 27 2021, 13:30:53) - [GCC 9.3.0], pyOpenSSL 20.0.1 (OpenSSL 1.1.1k  25 Mar 2021), cryptography 3.4.7, Platform Linux-5.4.72-microsoft-standard-WSL2-x86_64-with-glibc2.29\n",
      "2021-06-04 20:50:53 [scrapy.utils.log] DEBUG: Using reactor: twisted.internet.epollreactor.EPollReactor\n"
     ]
    }
   ],
   "source": [
    "\n",
    "class MarilynMansonQuotes(scrapy.Spider):\n",
    "    name = \"MarilynMansonQuotes\"\n",
    "    start_urls = [\n",
    "        'https://en.wikiquote.org/wiki/Marilyn_Manson',\n",
    "    ]\n",
    "    \n",
    "    def parse(self, response):\n",
    "        for quote in response.css('div.mw-parser-output > ul > li'):\n",
    "            yield {'quote': quote.extract()}\n",
    "\n",
    "process = CrawlerProcess()\n"
   ]
  },
  {
   "cell_type": "code",
   "execution_count": 46,
   "metadata": {},
   "outputs": [
    {
     "output_type": "stream",
     "name": "stderr",
     "text": [
      "2021-06-04 20:50:56 [scrapy.crawler] INFO: Overridden settings:\n",
      "{}\n",
      "2021-06-04 20:50:56 [scrapy.extensions.telnet] INFO: Telnet Password: c04e3a328a2d540f\n",
      "2021-06-04 20:50:56 [scrapy.middleware] INFO: Enabled extensions:\n",
      "['scrapy.extensions.corestats.CoreStats',\n",
      " 'scrapy.extensions.telnet.TelnetConsole',\n",
      " 'scrapy.extensions.memusage.MemoryUsage',\n",
      " 'scrapy.extensions.logstats.LogStats']\n",
      "2021-06-04 20:50:56 [scrapy.middleware] INFO: Enabled downloader middlewares:\n",
      "['scrapy.downloadermiddlewares.httpauth.HttpAuthMiddleware',\n",
      " 'scrapy.downloadermiddlewares.downloadtimeout.DownloadTimeoutMiddleware',\n",
      " 'scrapy.downloadermiddlewares.defaultheaders.DefaultHeadersMiddleware',\n",
      " 'scrapy.downloadermiddlewares.useragent.UserAgentMiddleware',\n",
      " 'scrapy.downloadermiddlewares.retry.RetryMiddleware',\n",
      " 'scrapy.downloadermiddlewares.redirect.MetaRefreshMiddleware',\n",
      " 'scrapy.downloadermiddlewares.httpcompression.HttpCompressionMiddleware',\n",
      " 'scrapy.downloadermiddlewares.redirect.RedirectMiddleware',\n",
      " 'scrapy.downloadermiddlewares.cookies.CookiesMiddleware',\n",
      " 'scrapy.downloadermiddlewares.httpproxy.HttpProxyMiddleware',\n",
      " 'scrapy.downloadermiddlewares.stats.DownloaderStats']\n",
      "2021-06-04 20:50:56 [scrapy.middleware] INFO: Enabled spider middlewares:\n",
      "['scrapy.spidermiddlewares.httperror.HttpErrorMiddleware',\n",
      " 'scrapy.spidermiddlewares.offsite.OffsiteMiddleware',\n",
      " 'scrapy.spidermiddlewares.referer.RefererMiddleware',\n",
      " 'scrapy.spidermiddlewares.urllength.UrlLengthMiddleware',\n",
      " 'scrapy.spidermiddlewares.depth.DepthMiddleware']\n",
      "2021-06-04 20:50:56 [scrapy.middleware] INFO: Enabled item pipelines:\n",
      "[]\n",
      "2021-06-04 20:50:56 [scrapy.core.engine] INFO: Spider opened\n",
      "2021-06-04 20:50:57 [scrapy.extensions.logstats] INFO: Crawled 0 pages (at 0 pages/min), scraped 0 items (at 0 items/min)\n",
      "2021-06-04 20:50:57 [scrapy.extensions.telnet] INFO: Telnet console listening on 127.0.0.1:6023\n",
      "2021-06-04 20:50:57 [scrapy.core.engine] DEBUG: Crawled (200) <GET https://en.wikiquote.org/wiki/Marilyn_Manson> (referer: None)\n",
      "2021-06-04 20:50:57 [scrapy.core.scraper] DEBUG: Scraped from <200 https://en.wikiquote.org/wiki/Marilyn_Manson>\n",
      "{'quote': '<li>If people really stopped and realized how much art and creative people move the world versus politics and religion, I mean it’s not even up for debate. An artist at least creates things, puts things into the world. Where as these other people are destroying things, taking things out of the world.\\n<ul><li>Interview on <i>The Henry Rollins Show</i></li></ul></li>'}\n",
      "2021-06-04 20:50:57 [scrapy.core.scraper] DEBUG: Scraped from <200 https://en.wikiquote.org/wiki/Marilyn_Manson>\n",
      "{'quote': \"<li>I'm fucking sick of people who always try to blame movies, bands, songs, or talk shows for whatever the fuck hits them today – teen suicides, drug overdoses or everything else. If someone is stupid enough to kill himself because of a song, then that's exactly what they deserve – they weren't contributing anything to the society – it's one less idiot in the world. There's too many people – if more people kill themselves over music, it wouldn't disappoint me. What would disappoint me is that people are that stupid.\\n<ul><li>As quoted in <i>The Phil Donahue Show</i></li></ul></li>\"}\n",
      "2021-06-04 20:50:57 [scrapy.core.scraper] DEBUG: Scraped from <200 https://en.wikiquote.org/wiki/Marilyn_Manson>\n",
      "{'quote': '<li>… I don\\'t expect everyone to get something deep out of it. Some people can just listen to the music, or get their aggressions out, but I think with any great painting or movie, album or whatever it is, it\\'s better if people can take what they need from it. That they\\'re not forced to get some particular message.\\n<ul><li>As quoted in \"Headbanger\\'s Ball\" (10 December 1996), <i>MTV Europe</i>.</li></ul></li>'}\n",
      "2021-06-04 20:50:57 [scrapy.core.scraper] DEBUG: Scraped from <200 https://en.wikiquote.org/wiki/Marilyn_Manson>\n",
      "{'quote': '<li>The whole concept of this band is to present the ugly truth about society – warts and all, and let the chips fall where they may.\\n<ul><li>As quoted in <i>Huh</i> (October 1996).<sup title=\"Inadequate citation\">[<a href=\"/wiki/Wikiquote:Citing_sources\" title=\"Wikiquote:Citing sources\"><i>specific\\xa0citation\\xa0needed</i></a>]</sup></li></ul></li>'}\n",
      "2021-06-04 20:50:57 [scrapy.core.scraper] DEBUG: Scraped from <200 https://en.wikiquote.org/wiki/Marilyn_Manson>\n",
      "{'quote': '<li>If someone listens to our music, and it makes them creative, that makes me happier than anything. But with our music, we try to teach the masses of fans that not everything is as it seems.\\n<ul><li>As quoted in <i>Huh</i> (10 October 1996).<sup title=\"Inadequate citation\">[<a href=\"/wiki/Wikiquote:Citing_sources\" title=\"Wikiquote:Citing sources\"><i>specific\\xa0citation\\xa0needed</i></a>]</sup></li></ul></li>'}\n",
      "2021-06-04 20:50:57 [scrapy.core.scraper] DEBUG: Scraped from <200 https://en.wikiquote.org/wiki/Marilyn_Manson>\n",
      "{'quote': \"<li>I hope that with our music we can inspire other people to be creative and to use their imagination, because it is something that is so lacking nowadays. You have virtual reality, MTV, video games and VCR's. Nobody really wants to think about things or create things. You have programs on a computer which will write a poem for you.\\n<ul><li>As quoted in <i>Kerrang!</i> (14 December 1996).</li></ul></li>\"}\n",
      "2021-06-04 20:50:57 [scrapy.core.scraper] DEBUG: Scraped from <200 https://en.wikiquote.org/wiki/Marilyn_Manson>\n",
      "{'quote': '<li>The world doesn\\'t revolve around the sun, it revolves around a giant cock. That is what the world is about. It\\'s about sex. Anybody who doesn\\'t want to realize this is fooling themselves. People are bored because they\\'ve done everything they can do. So now the fear of death is the only thing that gets them excited. That\\'s why some people have made me into some type of sex symbol. I\\'m death on wheels the way I look.\\n<ul><li>As quoted in <i>Guitar School</i> (1996).<sup title=\"Inadequate citation\">[<a href=\"/wiki/Wikiquote:Citing_sources\" title=\"Wikiquote:Citing sources\"><i>specific\\xa0citation\\xa0needed</i></a>]</sup></li></ul></li>'}\n",
      "2021-06-04 20:50:57 [scrapy.core.scraper] DEBUG: Scraped from <200 https://en.wikiquote.org/wiki/Marilyn_Manson>\n",
      "{'quote': '<li>Hopefully, I’ll be remembered as the person who brought an end to Christianity.\\n<ul><li>As quoted in <i>Spin</i> (August 1996), p. 34.</li></ul></li>'}\n",
      "2021-06-04 20:50:57 [scrapy.core.scraper] DEBUG: Scraped from <200 https://en.wikiquote.org/wiki/Marilyn_Manson>\n",
      "{'quote': '<li>[The world\\'s] not a great place anymore and it can\\'t be. I\\'m sure it would have been much more enjoyable to be alive in the fifties, when there was at least an illusion of purity, and things that were taboo had such a great power to them. I think it was a time when magic was really alive. There\\'s no imagination anymore. It was eliminated with video games and VCR\\'s. I\\'m only necessary because of the way the world is. Well, maybe if I manage to make the world a better place then maybe I\\'d want to have a kid.\\n<ul><li>As quoted in <i>Guitar World</i> (1996).<sup title=\"Inadequate citation\">[<a href=\"/wiki/Wikiquote:Citing_sources\" title=\"Wikiquote:Citing sources\"><i>specific\\xa0citation\\xa0needed</i></a>]</sup></li></ul></li>'}\n",
      "2021-06-04 20:50:57 [scrapy.core.scraper] DEBUG: Scraped from <200 https://en.wikiquote.org/wiki/Marilyn_Manson>\n",
      "{'quote': '<li>I\\'m not anything like Brad Pitt or Antonio Banderas, but maybe it\\'s the taboo element of my image, which is almost deathlike, that attracts them. I should be the last person that [people] should be attracted to.\\n<ul><li>As quoted in <i>CMJ</i> (January 1997).<sup title=\"Inadequate citation\">[<a href=\"/wiki/Wikiquote:Citing_sources\" title=\"Wikiquote:Citing sources\"><i>specific\\xa0citation\\xa0needed</i></a>]</sup></li></ul></li>'}\n",
      "2021-06-04 20:50:57 [scrapy.core.scraper] DEBUG: Scraped from <200 https://en.wikiquote.org/wiki/Marilyn_Manson>\n",
      "{'quote': '<li>In explaining things to people, I\\'ve come to terms with the fact that a lot of my goals are very Christian in the end. Because people no longer appreciate the taboos of sex, drugs, and rock &amp; roll. I have to take them as far as they\\'ve ever been taken before, on a grand scale, in order for the world to realize we have to start over. It\\'s very much like the mythology of the bible, the end of the world, and the antichrist and people are made to make a choice about their faith. I think certain elements of that are correct.\\n<ul><li>As quoted in <i>CMJ</i> (January 1997).<sup title=\"Inadequate citation\">[<a href=\"/wiki/Wikiquote:Citing_sources\" title=\"Wikiquote:Citing sources\"><i>specific\\xa0citation\\xa0needed</i></a>]</sup></li></ul></li>'}\n",
      "2021-06-04 20:50:57 [scrapy.core.scraper] DEBUG: Scraped from <200 https://en.wikiquote.org/wiki/Marilyn_Manson>\n",
      "{'quote': \"<li>It's really important for me to get across to our fans that whenever I put myself in different circumstances. It is to learn from it so I can relay it to others.\\n<ul><li>As quoted in <i>Circus</i> (January 1997).</li></ul></li>\"}\n",
      "2021-06-04 20:50:57 [scrapy.core.scraper] DEBUG: Scraped from <200 https://en.wikiquote.org/wiki/Marilyn_Manson>\n",
      "{'quote': '<li>… if my ideology is a hand, then that\\'s just two fingers. I incorporate a lot of Christian morality into what I do and in fact a lot of my beliefs are very conservative – like my desire for the world to be a better place where people use more intelligence. If you had to condense all that I believe in, it\\'s that responsible, intelligent people should be allowed to do what they want. That artists and performers and architects, people who contribute something to the world, that actually have something to say as opposed to a business man or a politician, say, people who actually contribute to society, the power should be traded. The creators are always suppressed – other than the placebo \"fame\" that they\\'re always given. I don\\'t really suggest any solution – that we could all kick them out of their positions of power and take over. It\\'s just the idea that if you enjoy what you do, that\\'s why you should do it.\\n<ul><li>As quoted in <i>NME</i> (30 August 1997).</li></ul></li>'}\n",
      "2021-06-04 20:50:57 [scrapy.core.scraper] DEBUG: Scraped from <200 https://en.wikiquote.org/wiki/Marilyn_Manson>\n",
      "{'quote': '<li>… if I hadn\\'t gone to a private Christian school, I\\'d never have built up enough animosity to want to have started a band. And now that I have one, the fact that they are giving me such resistance and publicity, they have made me far bigger than they\\'d ever have wanted me to have become. So I guess in a strange way the Christians have influenced me the most.\\n<ul><li>As quoted in <i>Vox</i> (October 1997).<sup title=\"Inadequate citation\">[<a href=\"/wiki/Wikiquote:Citing_sources\" title=\"Wikiquote:Citing sources\"><i>specific\\xa0citation\\xa0needed</i></a>]</sup></li></ul></li>'}\n",
      "2021-06-04 20:50:57 [scrapy.core.scraper] DEBUG: Scraped from <200 https://en.wikiquote.org/wiki/Marilyn_Manson>\n",
      "{'quote': '<li>I think onstage it was more me trying to show people my <a href=\"/wiki/Pain\" title=\"Pain\">pain</a>, and offstage it was just feeling it, period.\\n<ul><li>On mutilating himself, as quoted in <a rel=\"nofollow\" class=\"external text\" href=\"https://www.rollingstone.com/music/music-features/marilyn-manson-rose-mcgowan-twiggy-893441/\"><i>Rolling Stone</i></a> (15 October 1998).</li></ul></li>'}\n",
      "2021-06-04 20:50:57 [scrapy.core.scraper] DEBUG: Scraped from <200 https://en.wikiquote.org/wiki/Marilyn_Manson>\n",
      "{'quote': '<li>Understand this, tell others: in my dream vultures chase me into my burning house. There, they pick out the brains of my family, dismember them, devour. I emerge from my home and I am burning, skin falling away like a snake as the structure crumbles into a black skeleton. I cannot fight off the vultures. A young man or woman emerges from the ashes. He/she doesn\\'t save me, because he/she is holding my cracked and swollen heart in one hand and a piece of paper in the other. I can read it. It discusses and compares in great detail the differences between me and the vultures. He wraps my heart in the paper and tosses it to the ground. Can you see?\\n<ul><li>As quoted in MarilynManson.com (6 February 1999).<sup title=\"Inadequate citation\">[<a href=\"/wiki/Wikiquote:Citing_sources\" title=\"Wikiquote:Citing sources\"><i>specific\\xa0citation\\xa0needed</i></a>]</sup></li></ul></li>'}\n",
      "2021-06-04 20:50:57 [scrapy.core.scraper] DEBUG: Scraped from <200 https://en.wikiquote.org/wiki/Marilyn_Manson>\n",
      "{'quote': '<li>Is adult entertainment killing our children? Or is killing our children entertaining adults?\\n<ul><li>As quoted in MarilynManson.com (2000).<sup title=\"Inadequate citation\">[<a href=\"/wiki/Wikiquote:Citing_sources\" title=\"Wikiquote:Citing sources\"><i>specific\\xa0citation\\xa0needed</i></a>]</sup></li></ul></li>'}\n",
      "2021-06-04 20:50:57 [scrapy.core.scraper] DEBUG: Scraped from <200 https://en.wikiquote.org/wiki/Marilyn_Manson>\n",
      "{'quote': '<li>If they think that an artist can destroy their faith, then their faith is rather fragile.\\n<ul><li>As quoted in <a rel=\"nofollow\" class=\"external text\" href=\"http://news.bbc.co.uk/2/hi/entertainment/4175850.stm\">BBC News</a> (23 August 2005)</li></ul></li>'}\n",
      "2021-06-04 20:50:57 [scrapy.core.scraper] DEBUG: Scraped from <200 https://en.wikiquote.org/wiki/Marilyn_Manson>\n",
      "{'quote': '<li>To me, anything that is a church is really just far too close minded.\\n<ul><li>As quoted in <i>Ultimate Guitar</i> (2007).<sup title=\"Inadequate citation\">[<a href=\"/wiki/Wikiquote:Citing_sources\" title=\"Wikiquote:Citing sources\"><i>specific\\xa0citation\\xa0needed</i></a>]</sup></li></ul></li>'}\n",
      "2021-06-04 20:50:57 [scrapy.core.scraper] DEBUG: Scraped from <200 https://en.wikiquote.org/wiki/Marilyn_Manson>\n",
      "{'quote': '<li>We don\\'t believe in credibility, because we know that we\\'re fucking incredible.\\n<ul><li>\"<a rel=\"nofollow\" class=\"external text\" href=\"http://www.azlyrics.com/lyrics/marilynmanson/werefromamerica.html\">We\\'re From America</a>\".</li></ul></li>'}\n",
      "2021-06-04 20:50:57 [scrapy.core.scraper] DEBUG: Scraped from <200 https://en.wikiquote.org/wiki/Marilyn_Manson>\n",
      "{'quote': '<li>We don\\'t like to kill our unborn, we need them to grow up and fight our wars.\\n<ul><li>\"<a rel=\"nofollow\" class=\"external text\" href=\"http://www.azlyrics.com/lyrics/marilynmanson/werefromamerica.html\">We\\'re From America</a>\".</li></ul></li>'}\n",
      "2021-06-04 20:50:57 [scrapy.core.scraper] DEBUG: Scraped from <200 https://en.wikiquote.org/wiki/Marilyn_Manson>\n",
      "{'quote': '<li>Art gives me the freedom I don’t have when I make music. In music, you feel a connection to the voice and think about the person behind it. In art that\\'s secondary.\\n<ul><li>Regarding his latest art exhibition, as quoted in <a rel=\"nofollow\" class=\"external text\" href=\"http://www.theage.com.au/\"><i>The Age</i></a> (30 June 2010).<sup title=\"Inadequate citation\">[<a href=\"/wiki/Wikiquote:Citing_sources\" title=\"Wikiquote:Citing sources\"><i>specific\\xa0citation\\xa0needed</i></a>]</sup></li></ul></li>'}\n",
      "2021-06-04 20:50:57 [scrapy.core.scraper] DEBUG: Scraped from <200 https://en.wikiquote.org/wiki/Marilyn_Manson>\n",
      "{'quote': '<li>[A] dude\\'s getting bullied and shoots up his school, and they blame it on Marilyn and the heroin; where were the parents at?\\n<ul><li><a href=\"/wiki/Eminem\" title=\"Eminem\">Marshall B. Mathers</a>, <a rel=\"nofollow\" class=\"external text\" href=\"http://www.azlyrics.com/lyrics/eminem/thewayiam.html\">\"The Way I Am\"</a> (2000), <i>The Marshall Mathers LP</i></li></ul></li>'}\n",
      "2021-06-04 20:50:57 [scrapy.core.scraper] DEBUG: Scraped from <200 https://en.wikiquote.org/wiki/Marilyn_Manson>\n",
      "{'quote': '<li><a rel=\"nofollow\" class=\"external free\" href=\"http://www.marilynmanson.com/\">http://www.marilynmanson.com/</a></li>'}\n",
      "2021-06-04 20:50:57 [scrapy.core.scraper] DEBUG: Scraped from <200 https://en.wikiquote.org/wiki/Marilyn_Manson>\n",
      "{'quote': '<li><a rel=\"nofollow\" class=\"external free\" href=\"http://www.mansonwiki.com/\">http://www.mansonwiki.com/</a></li>'}\n",
      "2021-06-04 20:50:57 [scrapy.core.engine] INFO: Closing spider (finished)\n",
      "2021-06-04 20:50:58 [scrapy.statscollectors] INFO: Dumping Scrapy stats:\n",
      "{'downloader/request_bytes': 235,\n",
      " 'downloader/request_count': 1,\n",
      " 'downloader/request_method_count/GET': 1,\n",
      " 'downloader/response_bytes': 17304,\n",
      " 'downloader/response_count': 1,\n",
      " 'downloader/response_status_count/200': 1,\n",
      " 'elapsed_time_seconds': 0.990387,\n",
      " 'finish_reason': 'finished',\n",
      " 'finish_time': datetime.datetime(2021, 6, 4, 23, 50, 58, 1394),\n",
      " 'httpcompression/response_bytes': 59416,\n",
      " 'httpcompression/response_count': 1,\n",
      " 'item_scraped_count': 25,\n",
      " 'log_count/DEBUG': 26,\n",
      " 'log_count/INFO': 10,\n",
      " 'memusage/max': 177582080,\n",
      " 'memusage/startup': 177582080,\n",
      " 'response_received_count': 1,\n",
      " 'scheduler/dequeued': 1,\n",
      " 'scheduler/dequeued/memory': 1,\n",
      " 'scheduler/enqueued': 1,\n",
      " 'scheduler/enqueued/memory': 1,\n",
      " 'start_time': datetime.datetime(2021, 6, 4, 23, 50, 57, 11007)}\n",
      "2021-06-04 20:50:58 [scrapy.core.engine] INFO: Spider closed (finished)\n"
     ]
    }
   ],
   "source": [
    "process.crawl(MarilynMansonQuotes)\n",
    "process.start()"
   ]
  },
  {
   "cell_type": "code",
   "execution_count": null,
   "metadata": {},
   "outputs": [],
   "source": []
  }
 ]
}