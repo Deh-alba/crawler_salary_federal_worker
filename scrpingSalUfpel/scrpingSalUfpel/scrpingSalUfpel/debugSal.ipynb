{
 "metadata": {
  "language_info": {
   "codemirror_mode": {
    "name": "ipython",
    "version": 3
   },
   "file_extension": ".py",
   "mimetype": "text/x-python",
   "name": "python",
   "nbconvert_exporter": "python",
   "pygments_lexer": "ipython3",
   "version": "3.8.5"
  },
  "orig_nbformat": 2,
  "kernelspec": {
   "name": "python385jvsc74a57bd0916dbcbb3f70747c44a77c7bcd40155683ae19c65e1c03b4aa3499c5328201f1",
   "display_name": "Python 3.8.5 64-bit"
  },
  "metadata": {
   "interpreter": {
    "hash": "916dbcbb3f70747c44a77c7bcd40155683ae19c65e1c03b4aa3499c5328201f1"
   }
  }
 },
 "nbformat": 4,
 "nbformat_minor": 2,
 "cells": [
  {
   "cell_type": "code",
   "execution_count": 1,
   "metadata": {},
   "outputs": [],
   "source": [
    "import scrapy\n",
    "from selenium import webdriver\n",
    "import pandas\n",
    "from urllib.parse import urlparse\n",
    "from scrapy.crawler import CrawlerProcess\n"
   ]
  },
  {
   "cell_type": "code",
   "execution_count": 2,
   "metadata": {},
   "outputs": [],
   "source": [
    "name = \"salarios\"\n",
    "siape = dict()\n",
    "urls = list()\n",
    "arq = pandas.read_csv(\"servidores_ativos_ufpel.csv\")\n",
    "servidore = arq[\"nome\"]\n",
    "siapeUtil = arq[\"siape\"]\n",
    "main_site = \"https://www.portaldatransparencia.gov.br/servidores/Servidor-ListaServidores.asp?bogus=1&Pagina=1&TextoPesquisa=\""
   ]
  },
  {
   "cell_type": "code",
   "execution_count": 3,
   "metadata": {},
   "outputs": [
    {
     "output_type": "execute_result",
     "data": {
      "text/plain": [
       "0            MARILIA GUIDOTTI CORREA\n",
       "1          Rosiane Schwantz do Couto\n",
       "2       HELEN LETICIA GRALA JACOBSEN\n",
       "3              FLORIBALDO DIAS PERES\n",
       "4                  LUIZ PAULO DUARTE\n",
       "                    ...             \n",
       "2671     CARLOS ARTHUR SALDANHA DIAS\n",
       "2672        CAROLINA ANDERSSON BUNDE\n",
       "2673      LISANDRA MACHADO KERCHIRNE\n",
       "2674          RENATA PEREIRA CARDOSO\n",
       "2675          VITOR HUGO KARST FELIX\n",
       "Name: nome, Length: 2676, dtype: object"
      ]
     },
     "metadata": {},
     "execution_count": 3
    }
   ],
   "source": [
    "servidore"
   ]
  },
  {
   "cell_type": "code",
   "execution_count": 4,
   "metadata": {},
   "outputs": [
    {
     "output_type": "execute_result",
     "data": {
      "text/plain": [
       "0       2103752\n",
       "1       1844853\n",
       "2       1854388\n",
       "3        420664\n",
       "4        421000\n",
       "         ...   \n",
       "2671    3558505\n",
       "2672    2354376\n",
       "2673    1894217\n",
       "2674    2183279\n",
       "2675    2346070\n",
       "Name: siape, Length: 2676, dtype: int64"
      ]
     },
     "metadata": {},
     "execution_count": 4
    }
   ],
   "source": [
    "siapeUtil"
   ]
  },
  {
   "cell_type": "code",
   "execution_count": 5,
   "metadata": {},
   "outputs": [
    {
     "output_type": "execute_result",
     "data": {
      "text/plain": [
       "      cod_unidade                             unidade_lotacao    siape  \\\n",
       "0            38.0  Agência de Desenv. da Bacia da Lagoa Mirim  2103752   \n",
       "1            38.0  Agência de Desenv. da Bacia da Lagoa Mirim  1844853   \n",
       "2            40.0                           Auditoria Interna  1854388   \n",
       "3            36.0                            Biotério Central   420664   \n",
       "4            36.0                            Biotério Central   421000   \n",
       "...           ...                                         ...      ...   \n",
       "2671          NaN                                         NaN  3558505   \n",
       "2672          NaN                                         NaN  2354376   \n",
       "2673          NaN                                         NaN  1894217   \n",
       "2674          NaN                                         NaN  2183279   \n",
       "2675          NaN                                         NaN  2346070   \n",
       "\n",
       "                              nome regime_trabalho          titulacao  \\\n",
       "0          MARILIA GUIDOTTI CORREA             40h  Especialização NS   \n",
       "1        Rosiane Schwantz do Couto             40h           Mestrado   \n",
       "2     HELEN LETICIA GRALA JACOBSEN             40h           Mestrado   \n",
       "3            FLORIBALDO DIAS PERES             40h                NaN   \n",
       "4                LUIZ PAULO DUARTE             40h                NaN   \n",
       "...                            ...             ...                ...   \n",
       "2671   CARLOS ARTHUR SALDANHA DIAS             40h                NaN   \n",
       "2672      CAROLINA ANDERSSON BUNDE             40h  Especialização NS   \n",
       "2673    LISANDRA MACHADO KERCHIRNE             40h  Especialização NS   \n",
       "2674        RENATA PEREIRA CARDOSO             40h           Mestrado   \n",
       "2675        VITOR HUGO KARST FELIX             40h          Graduação   \n",
       "\n",
       "                   categoria                                   cargo  \\\n",
       "0     Técnico administrativo                  Técnico de Laboratório   \n",
       "1     Técnico administrativo             Assistente em Administração   \n",
       "2     Técnico administrativo                                 Auditor   \n",
       "3     Técnico administrativo  Mestre de Edificações e Infraestrutura   \n",
       "4     Técnico administrativo             Assistente em Administração   \n",
       "...                      ...                                     ...   \n",
       "2671  Técnico administrativo                                 Auditor   \n",
       "2672  Técnico administrativo                       Assistente Social   \n",
       "2673  Técnico administrativo             Assistente em Administração   \n",
       "2674  Técnico administrativo                                 Auditor   \n",
       "2675  Técnico administrativo                                     NaN   \n",
       "\n",
       "      Unnamed: 8 Unnamed: 9  \n",
       "0            NaN        NaN  \n",
       "1            NaN        NaN  \n",
       "2            NaN        NaN  \n",
       "3            NaN        NaN  \n",
       "4            NaN        NaN  \n",
       "...          ...        ...  \n",
       "2671         NaN        NaN  \n",
       "2672         NaN        NaN  \n",
       "2673         NaN        NaN  \n",
       "2674         NaN        NaN  \n",
       "2675         NaN        NaN  \n",
       "\n",
       "[2676 rows x 10 columns]"
      ],
      "text/html": "<div>\n<style scoped>\n    .dataframe tbody tr th:only-of-type {\n        vertical-align: middle;\n    }\n\n    .dataframe tbody tr th {\n        vertical-align: top;\n    }\n\n    .dataframe thead th {\n        text-align: right;\n    }\n</style>\n<table border=\"1\" class=\"dataframe\">\n  <thead>\n    <tr style=\"text-align: right;\">\n      <th></th>\n      <th>cod_unidade</th>\n      <th>unidade_lotacao</th>\n      <th>siape</th>\n      <th>nome</th>\n      <th>regime_trabalho</th>\n      <th>titulacao</th>\n      <th>categoria</th>\n      <th>cargo</th>\n      <th>Unnamed: 8</th>\n      <th>Unnamed: 9</th>\n    </tr>\n  </thead>\n  <tbody>\n    <tr>\n      <th>0</th>\n      <td>38.0</td>\n      <td>Agência de Desenv. da Bacia da Lagoa Mirim</td>\n      <td>2103752</td>\n      <td>MARILIA GUIDOTTI CORREA</td>\n      <td>40h</td>\n      <td>Especialização NS</td>\n      <td>Técnico administrativo</td>\n      <td>Técnico de Laboratório</td>\n      <td>NaN</td>\n      <td>NaN</td>\n    </tr>\n    <tr>\n      <th>1</th>\n      <td>38.0</td>\n      <td>Agência de Desenv. da Bacia da Lagoa Mirim</td>\n      <td>1844853</td>\n      <td>Rosiane Schwantz do Couto</td>\n      <td>40h</td>\n      <td>Mestrado</td>\n      <td>Técnico administrativo</td>\n      <td>Assistente em Administração</td>\n      <td>NaN</td>\n      <td>NaN</td>\n    </tr>\n    <tr>\n      <th>2</th>\n      <td>40.0</td>\n      <td>Auditoria Interna</td>\n      <td>1854388</td>\n      <td>HELEN LETICIA GRALA JACOBSEN</td>\n      <td>40h</td>\n      <td>Mestrado</td>\n      <td>Técnico administrativo</td>\n      <td>Auditor</td>\n      <td>NaN</td>\n      <td>NaN</td>\n    </tr>\n    <tr>\n      <th>3</th>\n      <td>36.0</td>\n      <td>Biotério Central</td>\n      <td>420664</td>\n      <td>FLORIBALDO DIAS PERES</td>\n      <td>40h</td>\n      <td>NaN</td>\n      <td>Técnico administrativo</td>\n      <td>Mestre de Edificações e Infraestrutura</td>\n      <td>NaN</td>\n      <td>NaN</td>\n    </tr>\n    <tr>\n      <th>4</th>\n      <td>36.0</td>\n      <td>Biotério Central</td>\n      <td>421000</td>\n      <td>LUIZ PAULO DUARTE</td>\n      <td>40h</td>\n      <td>NaN</td>\n      <td>Técnico administrativo</td>\n      <td>Assistente em Administração</td>\n      <td>NaN</td>\n      <td>NaN</td>\n    </tr>\n    <tr>\n      <th>...</th>\n      <td>...</td>\n      <td>...</td>\n      <td>...</td>\n      <td>...</td>\n      <td>...</td>\n      <td>...</td>\n      <td>...</td>\n      <td>...</td>\n      <td>...</td>\n      <td>...</td>\n    </tr>\n    <tr>\n      <th>2671</th>\n      <td>NaN</td>\n      <td>NaN</td>\n      <td>3558505</td>\n      <td>CARLOS ARTHUR SALDANHA DIAS</td>\n      <td>40h</td>\n      <td>NaN</td>\n      <td>Técnico administrativo</td>\n      <td>Auditor</td>\n      <td>NaN</td>\n      <td>NaN</td>\n    </tr>\n    <tr>\n      <th>2672</th>\n      <td>NaN</td>\n      <td>NaN</td>\n      <td>2354376</td>\n      <td>CAROLINA ANDERSSON BUNDE</td>\n      <td>40h</td>\n      <td>Especialização NS</td>\n      <td>Técnico administrativo</td>\n      <td>Assistente Social</td>\n      <td>NaN</td>\n      <td>NaN</td>\n    </tr>\n    <tr>\n      <th>2673</th>\n      <td>NaN</td>\n      <td>NaN</td>\n      <td>1894217</td>\n      <td>LISANDRA MACHADO KERCHIRNE</td>\n      <td>40h</td>\n      <td>Especialização NS</td>\n      <td>Técnico administrativo</td>\n      <td>Assistente em Administração</td>\n      <td>NaN</td>\n      <td>NaN</td>\n    </tr>\n    <tr>\n      <th>2674</th>\n      <td>NaN</td>\n      <td>NaN</td>\n      <td>2183279</td>\n      <td>RENATA PEREIRA CARDOSO</td>\n      <td>40h</td>\n      <td>Mestrado</td>\n      <td>Técnico administrativo</td>\n      <td>Auditor</td>\n      <td>NaN</td>\n      <td>NaN</td>\n    </tr>\n    <tr>\n      <th>2675</th>\n      <td>NaN</td>\n      <td>NaN</td>\n      <td>2346070</td>\n      <td>VITOR HUGO KARST FELIX</td>\n      <td>40h</td>\n      <td>Graduação</td>\n      <td>Técnico administrativo</td>\n      <td>NaN</td>\n      <td>NaN</td>\n      <td>NaN</td>\n    </tr>\n  </tbody>\n</table>\n<p>2676 rows × 10 columns</p>\n</div>"
     },
     "metadata": {},
     "execution_count": 5
    }
   ],
   "source": [
    "arq"
   ]
  },
  {
   "cell_type": "code",
   "execution_count": 6,
   "metadata": {},
   "outputs": [],
   "source": [
    "arq = arq.drop(columns=['Unnamed: 8','Unnamed: 9','cod_unidade'],axis=1)"
   ]
  },
  {
   "cell_type": "code",
   "execution_count": 7,
   "metadata": {},
   "outputs": [],
   "source": [
    "def mount_link(name):\n",
    "    main_site = \"https://www.portaldatransparencia.gov.br/servidores/consulta?paginacaoSimples=true&tamanhoPagina=&offset=&direcaoOrdenacao=asc&colunasSelecionadas=detalhar%2Ctipo%2Ccpf%2Cnome%2CorgaoServidorExercicio%2CorgaoServidorLotacao%2Cmatricula%2CtipoVinculo%2Cfuncao&palavraChave=\"+name.replace(' ', '+')\n",
    "    return urlparse(main_site).geturl()"
   ]
  },
  {
   "cell_type": "code",
   "execution_count": 20,
   "metadata": {},
   "outputs": [
    {
     "output_type": "stream",
     "name": "stdout",
     "text": [
      "https://www.portaldatransparencia.gov.br/servidores/consulta?paginacaoSimples=true&tamanhoPagina=&offset=&direcaoOrdenacao=asc&colunasSelecionadas=detalhar%2Ctipo%2Ccpf%2Cnome%2CorgaoServidorExercicio%2CorgaoServidorLotacao%2Cmatricula%2CtipoVinculo%2Cfuncao&palavraChave=MARILIA+GUIDOTTI+CORREA\n"
     ]
    }
   ],
   "source": [
    "print(mount_link(\"MARILIA GUIDOTTI CORREA\"))"
   ]
  },
  {
   "cell_type": "code",
   "execution_count": 21,
   "metadata": {},
   "outputs": [],
   "source": [
    "arq[\"link\"] = arq[\"nome\"].apply(lambda row: mount_link(row))"
   ]
  },
  {
   "cell_type": "code",
   "execution_count": 22,
   "metadata": {},
   "outputs": [
    {
     "output_type": "execute_result",
     "data": {
      "text/plain": [
       "0       https://www.portaldatransparencia.gov.br/servi...\n",
       "1       https://www.portaldatransparencia.gov.br/servi...\n",
       "2       https://www.portaldatransparencia.gov.br/servi...\n",
       "3       https://www.portaldatransparencia.gov.br/servi...\n",
       "4       https://www.portaldatransparencia.gov.br/servi...\n",
       "                              ...                        \n",
       "2671    https://www.portaldatransparencia.gov.br/servi...\n",
       "2672    https://www.portaldatransparencia.gov.br/servi...\n",
       "2673    https://www.portaldatransparencia.gov.br/servi...\n",
       "2674    https://www.portaldatransparencia.gov.br/servi...\n",
       "2675    https://www.portaldatransparencia.gov.br/servi...\n",
       "Name: link, Length: 2676, dtype: object"
      ]
     },
     "metadata": {},
     "execution_count": 22
    }
   ],
   "source": [
    "arq['link']"
   ]
  },
  {
   "cell_type": "code",
   "execution_count": 26,
   "metadata": {},
   "outputs": [
    {
     "output_type": "execute_result",
     "data": {
      "text/plain": [
       "'https://www.portaldatransparencia.gov.br/servidores/consulta?paginacaoSimples=true&tamanhoPagina=&offset=&direcaoOrdenacao=asc&colunasSelecionadas=detalhar%2Ctipo%2Ccpf%2Cnome%2CorgaoServidorExercicio%2CorgaoServidorLotacao%2Cmatricula%2CtipoVinculo%2Cfuncao&palavraChave=MARILIA+GUIDOTTI+CORREA'"
      ]
     },
     "metadata": {},
     "execution_count": 26
    }
   ],
   "source": [
    "arq['link'][0]"
   ]
  },
  {
   "cell_type": "code",
   "execution_count": 27,
   "metadata": {},
   "outputs": [
    {
     "output_type": "stream",
     "name": "stderr",
     "text": [
      "2021-06-04 21:35:05 [scrapy.utils.log] INFO: Scrapy 2.5.0 started (bot: scrapybot)\n",
      "2021-06-04 21:35:05 [scrapy.utils.log] INFO: Versions: lxml 4.6.3.0, libxml2 2.9.10, cssselect 1.1.0, parsel 1.6.0, w3lib 1.22.0, Twisted 21.2.0, Python 3.8.5 (default, May 27 2021, 13:30:53) - [GCC 9.3.0], pyOpenSSL 20.0.1 (OpenSSL 1.1.1k  25 Mar 2021), cryptography 3.4.7, Platform Linux-5.4.72-microsoft-standard-WSL2-x86_64-with-glibc2.29\n",
      "2021-06-04 21:35:05 [scrapy.utils.log] DEBUG: Using reactor: twisted.internet.epollreactor.EPollReactor\n"
     ]
    }
   ],
   "source": [
    "\n",
    "class salary_spider(scrapy.Spider):\n",
    "    name = \"salary_spider\"\n",
    "    start_urls = arq['link'][0]\n",
    "    \n",
    "    def parse(self, response):\n",
    "        for quote in response.xpath('//div[2]/section[1]/div[1]/div[2]/span/a'):\n",
    "            yield {'quote': quote.extract()}\n",
    "\n",
    "process = CrawlerProcess()\n"
   ]
  },
  {
   "cell_type": "code",
   "execution_count": 29,
   "metadata": {},
   "outputs": [
    {
     "output_type": "stream",
     "name": "stderr",
     "text": [
      "2021-06-04 21:35:20 [scrapy.crawler] INFO: Overridden settings:\n",
      "{}\n",
      "2021-06-04 21:35:20 [scrapy.extensions.telnet] INFO: Telnet Password: fbeae53efef56b51\n",
      "2021-06-04 21:35:20 [scrapy.middleware] INFO: Enabled extensions:\n",
      "['scrapy.extensions.corestats.CoreStats',\n",
      " 'scrapy.extensions.telnet.TelnetConsole',\n",
      " 'scrapy.extensions.memusage.MemoryUsage',\n",
      " 'scrapy.extensions.logstats.LogStats']\n",
      "2021-06-04 21:35:20 [scrapy.middleware] INFO: Enabled downloader middlewares:\n",
      "['scrapy.downloadermiddlewares.httpauth.HttpAuthMiddleware',\n",
      " 'scrapy.downloadermiddlewares.downloadtimeout.DownloadTimeoutMiddleware',\n",
      " 'scrapy.downloadermiddlewares.defaultheaders.DefaultHeadersMiddleware',\n",
      " 'scrapy.downloadermiddlewares.useragent.UserAgentMiddleware',\n",
      " 'scrapy.downloadermiddlewares.retry.RetryMiddleware',\n",
      " 'scrapy.downloadermiddlewares.redirect.MetaRefreshMiddleware',\n",
      " 'scrapy.downloadermiddlewares.httpcompression.HttpCompressionMiddleware',\n",
      " 'scrapy.downloadermiddlewares.redirect.RedirectMiddleware',\n",
      " 'scrapy.downloadermiddlewares.cookies.CookiesMiddleware',\n",
      " 'scrapy.downloadermiddlewares.httpproxy.HttpProxyMiddleware',\n",
      " 'scrapy.downloadermiddlewares.stats.DownloaderStats']\n",
      "2021-06-04 21:35:20 [scrapy.middleware] INFO: Enabled spider middlewares:\n",
      "['scrapy.spidermiddlewares.httperror.HttpErrorMiddleware',\n",
      " 'scrapy.spidermiddlewares.offsite.OffsiteMiddleware',\n",
      " 'scrapy.spidermiddlewares.referer.RefererMiddleware',\n",
      " 'scrapy.spidermiddlewares.urllength.UrlLengthMiddleware',\n",
      " 'scrapy.spidermiddlewares.depth.DepthMiddleware']\n",
      "2021-06-04 21:35:20 [scrapy.middleware] INFO: Enabled item pipelines:\n",
      "[]\n",
      "2021-06-04 21:35:20 [scrapy.core.engine] INFO: Spider opened\n",
      "2021-06-04 21:35:20 [scrapy.extensions.logstats] INFO: Crawled 0 pages (at 0 pages/min), scraped 0 items (at 0 items/min)\n",
      "2021-06-04 21:35:20 [scrapy.extensions.telnet] INFO: Telnet console listening on 127.0.0.1:6023\n",
      "2021-06-04 21:35:20 [scrapy.core.engine] ERROR: Error while obtaining start requests\n",
      "Traceback (most recent call last):\n",
      "  File \"/usr/local/lib/python3.8/dist-packages/scrapy/core/engine.py\", line 129, in _next_request\n",
      "    request = next(slot.start_requests)\n",
      "  File \"/usr/local/lib/python3.8/dist-packages/scrapy/spiders/__init__.py\", line 77, in start_requests\n",
      "    yield Request(url, dont_filter=True)\n",
      "  File \"/usr/local/lib/python3.8/dist-packages/scrapy/http/request/__init__.py\", line 25, in __init__\n",
      "    self._set_url(url)\n",
      "  File \"/usr/local/lib/python3.8/dist-packages/scrapy/http/request/__init__.py\", line 73, in _set_url\n",
      "    raise ValueError(f'Missing scheme in request url: {self._url}')\n",
      "ValueError: Missing scheme in request url: h\n",
      "2021-06-04 21:35:20 [scrapy.core.engine] INFO: Closing spider (finished)\n",
      "2021-06-04 21:35:20 [scrapy.statscollectors] INFO: Dumping Scrapy stats:\n",
      "{'elapsed_time_seconds': 0.024448,\n",
      " 'finish_reason': 'finished',\n",
      " 'finish_time': datetime.datetime(2021, 6, 5, 0, 35, 20, 906804),\n",
      " 'log_count/ERROR': 1,\n",
      " 'log_count/INFO': 10,\n",
      " 'memusage/max': 177004544,\n",
      " 'memusage/startup': 177004544,\n",
      " 'start_time': datetime.datetime(2021, 6, 5, 0, 35, 20, 882356)}\n",
      "2021-06-04 21:35:20 [scrapy.core.engine] INFO: Spider closed (finished)\n"
     ]
    }
   ],
   "source": [
    "process.crawl(salary_spider)\n",
    "process.start()"
   ]
  },
  {
   "cell_type": "code",
   "execution_count": null,
   "metadata": {},
   "outputs": [],
   "source": []
  }
 ]
}